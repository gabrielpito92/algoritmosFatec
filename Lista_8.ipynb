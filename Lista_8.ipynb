{
  "nbformat": 4,
  "nbformat_minor": 0,
  "metadata": {
    "colab": {
      "provenance": [],
      "authorship_tag": "ABX9TyPXb5LrTh73a4Cjk3oF9yqZ",
      "include_colab_link": true
    },
    "kernelspec": {
      "name": "python3",
      "display_name": "Python 3"
    },
    "language_info": {
      "name": "python"
    }
  },
  "cells": [
    {
      "cell_type": "markdown",
      "metadata": {
        "id": "view-in-github",
        "colab_type": "text"
      },
      "source": [
        "<a href=\"https://colab.research.google.com/github/gabrielpito92/algoritmosFatec/blob/main/Lista_8.ipynb\" target=\"_parent\"><img src=\"https://colab.research.google.com/assets/colab-badge.svg\" alt=\"Open In Colab\"/></a>"
      ]
    },
    {
      "cell_type": "markdown",
      "source": [
        "**LISTA DE EXERCICIOS 8**"
      ],
      "metadata": {
        "id": "YgMvijwyek1x"
      }
    },
    {
      "cell_type": "markdown",
      "source": [
        "UTILIZE FOR:\n",
        "1) Leia 5 números e mostra a soma entre eles"
      ],
      "metadata": {
        "id": "s4uHEvHBZ1TJ"
      }
    },
    {
      "cell_type": "code",
      "source": [
        "soma = 0\n",
        "\n",
        "for num in range(1,6):\n",
        "  try:\n",
        "    entrada = int(input(f'Digite o {num}° número: '))\n",
        "  except ValueError:\n",
        "    print('Digite um número inteiro válido!')\n",
        "    entrada = int(input(f'Digite o {num}° número: '))\n",
        "\n",
        "  soma += entrada\n",
        "\n",
        "print(f'A soma entre os números digitados é {soma}')"
      ],
      "metadata": {
        "id": "V2BOPI2gZ1LZ",
        "colab": {
          "base_uri": "https://localhost:8080/"
        },
        "outputId": "885bed7d-b848-4772-c211-0f2f00c47000"
      },
      "execution_count": null,
      "outputs": [
        {
          "output_type": "stream",
          "name": "stdout",
          "text": [
            "Digite o 1° número: 1\n",
            "Digite o 2° número: asdf\n",
            "Digite um número inteiro válido!\n",
            "Digite o 2° número: 1\n",
            "Digite o 3° número: adsdfasd\n",
            "Digite um número inteiro válido!\n",
            "Digite o 3° número: 1\n",
            "Digite o 4° número: fasdf\n",
            "Digite um número inteiro válido!\n",
            "Digite o 4° número: 1\n",
            "Digite o 5° número: 1\n",
            "A soma entre os números digitados é 5\n"
          ]
        }
      ]
    },
    {
      "cell_type": "markdown",
      "source": [
        "UTILIZE FOR: 2) Leia 10 números e mostre quantos são pares e quantos são ímpares;"
      ],
      "metadata": {
        "id": "C1GiKIGHXwno"
      }
    },
    {
      "cell_type": "code",
      "execution_count": null,
      "metadata": {
        "id": "F-pFaYjkXrQF",
        "colab": {
          "base_uri": "https://localhost:8080/"
        },
        "outputId": "5c399221-0769-4acb-ecba-a2b5835afee6"
      },
      "outputs": [
        {
          "output_type": "stream",
          "name": "stdout",
          "text": [
            "Digite o 1° número: asdsd\n",
            "Digite um número inteiro válido!\n",
            "Digite o 1° número: 1\n",
            "Digite o 2° número: 2\n",
            "Digite o 3° número: 3\n",
            "Digite o 4° número: fsdfsdfs\n",
            "Digite um número inteiro válido!\n",
            "Digite o 4° número: 4\n",
            "Digite o 5° número: sdfsdfsdf\n",
            "Digite um número inteiro válido!\n",
            "Digite o 5° número: 5\n",
            "Digite o 6° número: gsdfgsdfg\n",
            "Digite um número inteiro válido!\n",
            "Digite o 6° número: 6\n",
            "Digite o 7° número: 7\n",
            "Digite o 8° número: 8\n",
            "Digite o 9° número: 9\n",
            "Digite o 10° número: 10\n",
            "Os números pares digitados são 5\n",
            "Os números impares digitados são 5\n"
          ]
        }
      ],
      "source": [
        "par = 0\n",
        "impar = 0\n",
        "\n",
        "for num in range(1,11):\n",
        "  try:\n",
        "    entrada = int(input(f'Digite o {num}° número: '))\n",
        "\n",
        "  except ValueError:\n",
        "    print('Digite um número inteiro válido!')\n",
        "    entrada = int(input(f'Digite o {num}° número: '))\n",
        "\n",
        "  if entrada % 2 == 0:\n",
        "      par += 1\n",
        "  else:\n",
        "    impar += 1\n",
        "\n",
        "print(f'Os números pares digitados são {par}')\n",
        "print(f'Os números impares digitados são {impar}')"
      ]
    },
    {
      "cell_type": "markdown",
      "source": [
        "UTILIZE FOR: 3) Leia 10 números e mostre quantos são positivos, quantos são negativos e quantos são neutros;"
      ],
      "metadata": {
        "id": "uL9yjKvsANjx"
      }
    },
    {
      "cell_type": "code",
      "source": [
        "positivo = 0\n",
        "negativo = 0\n",
        "neutro = 0\n",
        "\n",
        "for num in range(1,11):\n",
        "  try:\n",
        "    entrada = int(input(f'Digite o {num}° número: '))\n",
        "\n",
        "  except ValueError:\n",
        "    print('Digite um número inteiro válido!')\n",
        "    entrada = int(input(f'Digite o {num}° número: '))\n",
        "\n",
        "  if entrada > 0:\n",
        "    positivo += 1\n",
        "  elif entrada < 0:\n",
        "    negativo += 1\n",
        "  else:\n",
        "    neutro += 1\n",
        "\n",
        "print(f'Os números positivos digitados são {positivo}')\n",
        "print(f'Os números negativos digitados são {negativo}')\n",
        "print(f'Os números neutros digitados são {neutro}')"
      ],
      "metadata": {
        "colab": {
          "base_uri": "https://localhost:8080/"
        },
        "id": "oM-XGCGCYhkj",
        "outputId": "fd54327a-3dfe-460d-dba6-b95337f86732"
      },
      "execution_count": null,
      "outputs": [
        {
          "output_type": "stream",
          "name": "stdout",
          "text": [
            "Digite o 1° número: -1\n",
            "Digite o 2° número: -1\n",
            "Digite o 3° número: -1\n",
            "Digite o 4° número: 0\n",
            "Digite o 5° número: 0\n",
            "Digite o 6° número: 0\n",
            "Digite o 7° número: 1\n",
            "Digite o 8° número: 1\n",
            "Digite o 9° número: 1\n",
            "Digite o 10° número: 1\n",
            "Os números positivos digitados são 4\n",
            "Os números negativos digitados são 3\n",
            "Os números neutros digitados são 3\n"
          ]
        }
      ]
    },
    {
      "cell_type": "markdown",
      "source": [
        "UTILIZE WHILE: 1) Mostre todos os números pares entre 1 e 100. E em seguida mostre a sua soma;"
      ],
      "metadata": {
        "id": "9kWzpRs3MbNe"
      }
    },
    {
      "cell_type": "code",
      "source": [
        "cont = 0\n",
        "soma = 0\n",
        "\n",
        "while cont < 100:\n",
        "  cont += 2\n",
        "  soma += cont\n",
        "  print('Número:', cont)\n",
        "\n",
        "print('A soma entre os números é:', soma)\n"
      ],
      "metadata": {
        "colab": {
          "base_uri": "https://localhost:8080/"
        },
        "id": "AlOHQ1HlMbth",
        "outputId": "274fb051-400f-4130-d5fe-af9e1b3de9dc"
      },
      "execution_count": null,
      "outputs": [
        {
          "output_type": "stream",
          "name": "stdout",
          "text": [
            "Número: 2\n",
            "Número: 4\n",
            "Número: 6\n",
            "Número: 8\n",
            "Número: 10\n",
            "Número: 12\n",
            "Número: 14\n",
            "Número: 16\n",
            "Número: 18\n",
            "Número: 20\n",
            "Número: 22\n",
            "Número: 24\n",
            "Número: 26\n",
            "Número: 28\n",
            "Número: 30\n",
            "Número: 32\n",
            "Número: 34\n",
            "Número: 36\n",
            "Número: 38\n",
            "Número: 40\n",
            "Número: 42\n",
            "Número: 44\n",
            "Número: 46\n",
            "Número: 48\n",
            "Número: 50\n",
            "Número: 52\n",
            "Número: 54\n",
            "Número: 56\n",
            "Número: 58\n",
            "Número: 60\n",
            "Número: 62\n",
            "Número: 64\n",
            "Número: 66\n",
            "Número: 68\n",
            "Número: 70\n",
            "Número: 72\n",
            "Número: 74\n",
            "Número: 76\n",
            "Número: 78\n",
            "Número: 80\n",
            "Número: 82\n",
            "Número: 84\n",
            "Número: 86\n",
            "Número: 88\n",
            "Número: 90\n",
            "Número: 92\n",
            "Número: 94\n",
            "Número: 96\n",
            "Número: 98\n",
            "Número: 100\n",
            "A soma entre os números é: 2550\n"
          ]
        }
      ]
    },
    {
      "cell_type": "markdown",
      "source": [
        "UTILIZE WHILE: 2) Mostre todos os números múltiplos de 3 entre 1 e 100."
      ],
      "metadata": {
        "id": "AADH5YRDMcDd"
      }
    },
    {
      "cell_type": "code",
      "source": [
        "cont = 0\n",
        "soma = 0\n",
        "\n",
        "while cont < 97:\n",
        "  cont += 3\n",
        "  soma += cont\n",
        "  print('Número:', cont)"
      ],
      "metadata": {
        "colab": {
          "base_uri": "https://localhost:8080/"
        },
        "id": "X01oFvOfMcVj",
        "outputId": "bf1da4e8-867c-46ad-bc05-3c01b631962a"
      },
      "execution_count": null,
      "outputs": [
        {
          "output_type": "stream",
          "name": "stdout",
          "text": [
            "Número: 3\n",
            "Número: 6\n",
            "Número: 9\n",
            "Número: 12\n",
            "Número: 15\n",
            "Número: 18\n",
            "Número: 21\n",
            "Número: 24\n",
            "Número: 27\n",
            "Número: 30\n",
            "Número: 33\n",
            "Número: 36\n",
            "Número: 39\n",
            "Número: 42\n",
            "Número: 45\n",
            "Número: 48\n",
            "Número: 51\n",
            "Número: 54\n",
            "Número: 57\n",
            "Número: 60\n",
            "Número: 63\n",
            "Número: 66\n",
            "Número: 69\n",
            "Número: 72\n",
            "Número: 75\n",
            "Número: 78\n",
            "Número: 81\n",
            "Número: 84\n",
            "Número: 87\n",
            "Número: 90\n",
            "Número: 93\n",
            "Número: 96\n",
            "Número: 99\n"
          ]
        }
      ]
    }
  ]
}