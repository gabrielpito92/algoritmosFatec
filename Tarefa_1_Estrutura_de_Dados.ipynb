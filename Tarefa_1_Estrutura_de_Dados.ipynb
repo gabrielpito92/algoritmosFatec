{
  "nbformat": 4,
  "nbformat_minor": 0,
  "metadata": {
    "colab": {
      "provenance": [],
      "authorship_tag": "ABX9TyMjVvWmepH+QfMszDOLrN11",
      "include_colab_link": true
    },
    "kernelspec": {
      "name": "python3",
      "display_name": "Python 3"
    },
    "language_info": {
      "name": "python"
    }
  },
  "cells": [
    {
      "cell_type": "markdown",
      "metadata": {
        "id": "view-in-github",
        "colab_type": "text"
      },
      "source": [
        "<a href=\"https://colab.research.google.com/github/gabrielpito92/algoritmosFatec/blob/main/Tarefa_1_Estrutura_de_Dados.ipynb\" target=\"_parent\"><img src=\"https://colab.research.google.com/assets/colab-badge.svg\" alt=\"Open In Colab\"/></a>"
      ]
    },
    {
      "cell_type": "markdown",
      "source": [
        "1. Crie um projeto em python e faça um projeto que leia a idade do usuário e classifique em:\n",
        "- Criança (0-10)\n",
        "- Pré-Adolescente (11-13)\n",
        "- Adolescente (14-17)\n",
        "- Adulto (>18)\n",
        "\n",
        "Obs: Se o usuário digitar um número negativo, ou maior que 150, mostre uma mensagem informando que a idade é inválida."
      ],
      "metadata": {
        "id": "IHz4T-Gw66zU"
      }
    },
    {
      "cell_type": "code",
      "execution_count": null,
      "metadata": {
        "id": "m76xj92P651z"
      },
      "outputs": [],
      "source": [
        "idade= int(input('Digite a sua idade: '))\n",
        "if (idade < 0 or idade > 150):\n",
        "    print(\"Idade inválida\")\n",
        "else:\n",
        "  if idade >= 0 and idade <= 10:\n",
        "      print(\"Criança\")\n",
        "  elif idade >= 11 and idade <= 13:\n",
        "      print(\"Pré-adolescente\")\n",
        "  elif idade >= 14 and idade <= 17:\n",
        "      print(\"Adolescente\")\n",
        "  else:\n",
        "      print(\"Adulto\")"
      ]
    },
    {
      "cell_type": "markdown",
      "source": [
        "2. Em um novo projeto, efeute o cálculo da quantidade total de litros de combustível quem um veículo usará em uma viagem. Para obter o cálculo, o usuário deve fornecer os quilômetros total da viagem e a média de consumo do seu veículo."
      ],
      "metadata": {
        "id": "j7AhB5xK7uKD"
      }
    },
    {
      "cell_type": "code",
      "execution_count": null,
      "metadata": {
        "id": "OrIHNSa68gDl"
      },
      "outputs": [],
      "source": [
        "quilometros = float(input('Digite a quantidade de quilômetros totais da viagem: '))\n",
        "combustivel = float(input('Digite a média de consumo do seu veículo: '))\n",
        "total = quilometros / combustivel\n",
        "print(f'A quantidade de litros é de {total}')"
      ]
    },
    {
      "cell_type": "markdown",
      "source": [
        "3. Em um novo projeto, calcule a média de um aluno que cursou a disciplina de Estrutura de dados.\n",
        "Leia as notas N1, N2 N3, N4, N5 e N6, e com os valores lidos, calcule a média aritmética. Depois, informe se o aluno foi aprovado, reprovado ou se terá que fazer uma prova substitutiva.\n",
        "\n",
        "- Se a média estiver abaixo de 4.5 o aluno será reprovado\n",
        "- Se a média estiver entre 4.5 e 6, o aluno terá que fazer uma sub\n",
        "- Se a média for maior do que 6, o aluno está aprovado"
      ],
      "metadata": {
        "id": "pEUci0Sp9UYO"
      }
    },
    {
      "cell_type": "code",
      "source": [
        "notas = []\n",
        "\n",
        "while len(notas) < 6:\n",
        "  nota = float(input(f'Digite a nota n° {len(notas)+1} do aluno: '))\n",
        "  notas.append(nota)\n",
        "\n",
        "media_final = sum(notas)/6\n",
        "print('\\n')\n",
        "\n",
        "if (media_final < 4.5):\n",
        "  print('reprovado')\n",
        "elif (media_final == 4.5 or media_final <= 6):\n",
        "  print('deverá fazer a sub')\n",
        "else:\n",
        "  print('aprovado')\n",
        "\n",
        "print(f'A média das notas é: {sum(notas)/6}')"
      ],
      "metadata": {
        "colab": {
          "base_uri": "https://localhost:8080/"
        },
        "id": "ujAEXsmH9Twr",
        "outputId": "3fb10bf1-b5e7-4fe4-fb5a-a46011655363"
      },
      "execution_count": null,
      "outputs": [
        {
          "output_type": "stream",
          "name": "stdout",
          "text": [
            "Digite a nota n° 1 do aluno: 5\n",
            "Digite a nota n° 2 do aluno: 5\n",
            "Digite a nota n° 3 do aluno: 5\n",
            "Digite a nota n° 4 do aluno: 5\n",
            "Digite a nota n° 5 do aluno: 5\n",
            "Digite a nota n° 6 do aluno: 5\n",
            "\n",
            "\n",
            "deverá fazer a sub\n",
            "A média das notas é: 5.0\n"
          ]
        }
      ]
    },
    {
      "cell_type": "markdown",
      "source": [
        "4. Faça outro projeto que use uma estrutura de repetição que imprima a tabuada do número que a pessoa digitar. A tabuada será até o valor 10.\n",
        "No inicio, peça ao usuário para ele digitar o número desejado, e com esse número você calcula a tabuada.\n",
        "Ou seja, se a pessoa digitar 50, será feito:\n",
        "50 * 1 = 50\n",
        "...\n",
        "50 * 10 = 500"
      ],
      "metadata": {
        "id": "953_BI01Cuo5"
      }
    },
    {
      "cell_type": "code",
      "source": [
        "num = int(input('Digite um número para ser impresso a tabuada: '))\n",
        "\n",
        "for i in range(1,11):\n",
        "  total = i * num\n",
        "  print(f'{num} * {i} = {total}')"
      ],
      "metadata": {
        "colab": {
          "base_uri": "https://localhost:8080/"
        },
        "id": "8vGilshKCvDo",
        "outputId": "e1c2293c-a36f-4d28-a12c-49569b42bb10"
      },
      "execution_count": null,
      "outputs": [
        {
          "output_type": "stream",
          "name": "stdout",
          "text": [
            "Digite um número para ser impresso a tabuada: 3\n",
            "3 * 1 = 3\n",
            "3 * 2 = 6\n",
            "3 * 3 = 9\n",
            "3 * 4 = 12\n",
            "3 * 5 = 15\n",
            "3 * 6 = 18\n",
            "3 * 7 = 21\n",
            "3 * 8 = 24\n",
            "3 * 9 = 27\n",
            "3 * 10 = 30\n"
          ]
        }
      ]
    },
    {
      "cell_type": "markdown",
      "source": [
        "###TUPLAS\n",
        "\n",
        "1) Crie uma tupla de filmes. A tupla deve conter o título do filme, o nome do diretor, o ano de lançamento do filme e o orçamento do filme.\n",
        "\n",
        "2) Use a função input() para coletar informações sobre outros filmes. Você precisa de um título, nome do diretor, ano de lançamento e orçamento. Crie uma nova tupla a partir dos valores que você reuniu usando a entrada.\n",
        "- Imprima todos os filmes das duas tuplas.\n",
        "\n",
        "3) Crie um programa que tenha uma tupla totalmente preenchida com uma contagem por extenso, de zero até vinte. ('zero', 'um', 'dois', ...)\n",
        "- Seu programa deverá ler um número pelo teclado (entre 0 e 20) e mostra-lo por extenso.\n",
        "- Números fora desse range deverão exibir uma mensagem e solicitar o valor novamente.\n",
        "- Programa roda continuamente até que o usuário queira parar."
      ],
      "metadata": {
        "id": "-wlMfMBytJxC"
      }
    },
    {
      "cell_type": "code",
      "source": [
        "filme = ('Piratas do Caribe', 'Pedro Gabriel', '2023', 'R$1.000')"
      ],
      "metadata": {
        "id": "nr1irSEXt6pv"
      },
      "execution_count": 3,
      "outputs": []
    },
    {
      "cell_type": "code",
      "source": [
        "listaTupla = []\n",
        "\n",
        "def inputsPrint():\n",
        "  titulo = input('\\nDigite título do filme: ')\n",
        "  diretor = input('Digite o nome do diretor do filme: ')\n",
        "  ano = input('Digite o ano do filme: ')\n",
        "  orcamento = input('Digite o orçamento do filme: ')\n",
        "  listaTupla.append((titulo, diretor, ano, orcamento))\n",
        "  print(f'Filme tupla 1: {filme} \\nFilmes adicionados: {listaTupla}')\n",
        "\n",
        "while True:\n",
        "  cont = input('\\nDeseja add um filme (y) ou parar (n)? ')\n",
        "  if cont == 'n':\n",
        "    print(' - FIM - ')\n",
        "    break\n",
        "  else:\n",
        "    inputsPrint()"
      ],
      "metadata": {
        "colab": {
          "base_uri": "https://localhost:8080/"
        },
        "id": "IdVf2U9xt3QI",
        "outputId": "a80ec009-ebab-44be-8028-3367bbc7ac69"
      },
      "execution_count": 5,
      "outputs": [
        {
          "output_type": "stream",
          "name": "stdout",
          "text": [
            "\n",
            "Deseja add um filme (y) ou parar (n)? y\n",
            "\n",
            "Digite título do filme: Jason Bourne\n",
            "Digite o nome do diretor do filme: jessica oliveira\n",
            "Digite o ano do filme: 2018\n",
            "Digite o orçamento do filme: 92834\n",
            "Filme tupla 1: ('Piratas do Caribe', 'Pedro Gabriel', '2023', 'R$1.000') \n",
            "Filmes adicionados: [('Jason Bourne', 'jessica oliveira', '2018', '92834')]\n",
            "\n",
            "Deseja add um filme (y) ou parar (n)? y\n",
            "\n",
            "Digite título do filme: Masha e o Urso\n",
            "Digite o nome do diretor do filme: Urso\n",
            "Digite o ano do filme: 2012\n",
            "Digite o orçamento do filme: 29384\n",
            "Filme tupla 1: ('Piratas do Caribe', 'Pedro Gabriel', '2023', 'R$1.000') \n",
            "Filmes adicionados: [('Jason Bourne', 'jessica oliveira', '2018', '92834'), ('Masha e o Urso', 'Urso', '2012', '29384')]\n",
            "\n",
            "Deseja add um filme (y) ou parar (n)? y\n",
            "\n",
            "Digite título do filme: Carros\n",
            "Digite o nome do diretor do filme: Fusca\n",
            "Digite o ano do filme: 2019\n",
            "Digite o orçamento do filme: 1923\n",
            "Filme tupla 1: ('Piratas do Caribe', 'Pedro Gabriel', '2023', 'R$1.000') \n",
            "Filmes adicionados: [('Jason Bourne', 'jessica oliveira', '2018', '92834'), ('Masha e o Urso', 'Urso', '2012', '29384'), ('Carros', 'Fusca', '2019', '1923')]\n",
            "\n",
            "Deseja add um filme (y) ou parar (n)? n\n",
            " - FIM - \n"
          ]
        }
      ]
    },
    {
      "cell_type": "code",
      "source": [
        "numeros_por_extenso = (\n",
        "    \"zero\", \"um\", \"dois\", \"três\", \"quatro\", \"cinco\", \"seis\", \"sete\", \"oito\", \"nove\", \"dez\", \"onze\", \"doze\", \"treze\",\n",
        "    \"catorze\", \"quinze\", \"dezesseis\", \"dezessete\", \"dezoito\", \"dezenove\", \"vinte\"\n",
        ")"
      ],
      "metadata": {
        "id": "m6fKd7HhBOvS"
      },
      "execution_count": 7,
      "outputs": []
    },
    {
      "cell_type": "code",
      "source": [
        "while True:\n",
        "  numero = input('Digite um número de 0 a 20 (s p/a sair): ')\n",
        "\n",
        "  if (numero == 's'):\n",
        "    print('- FIM -')\n",
        "    break\n",
        "  else:\n",
        "    try:\n",
        "      numero = int(numero)\n",
        "      if ((numero < 0) or (numero > 20)):\n",
        "        print('Valor inválido!')\n",
        "        continue\n",
        "      else:\n",
        "        print(f'Número: {numeros_por_extenso[numero]}')\n",
        "    except ValueError:\n",
        "      print('Valor inválido!')\n",
        "      continue"
      ],
      "metadata": {
        "colab": {
          "base_uri": "https://localhost:8080/"
        },
        "id": "U1G2J9DLBdmA",
        "outputId": "3a96cf8c-ee4b-4f30-d985-d2e2cf47fa21"
      },
      "execution_count": 8,
      "outputs": [
        {
          "output_type": "stream",
          "name": "stdout",
          "text": [
            "Digite um número de 0 a 20 (s p/a sair): 22\n",
            "Valor inválido!\n",
            "Digite um número de 0 a 20 (s p/a sair): 1\n",
            "Número: um\n",
            "Digite um número de 0 a 20 (s p/a sair): 2\n",
            "Número: dois\n",
            "Digite um número de 0 a 20 (s p/a sair): 3\n",
            "Número: três\n",
            "Digite um número de 0 a 20 (s p/a sair): 4\n",
            "Número: quatro\n",
            "Digite um número de 0 a 20 (s p/a sair): 5\n",
            "Número: cinco\n",
            "Digite um número de 0 a 20 (s p/a sair): s\n",
            "- FIM -\n"
          ]
        }
      ]
    },
    {
      "cell_type": "code",
      "source": [
        "# install library num2words\n",
        "!pip install num2words"
      ],
      "metadata": {
        "colab": {
          "base_uri": "https://localhost:8080/"
        },
        "id": "5TbKp_Qkp_U7",
        "outputId": "3a9e9a53-9f04-4514-f3b2-1533d21fa3f5"
      },
      "execution_count": 18,
      "outputs": [
        {
          "output_type": "stream",
          "name": "stdout",
          "text": [
            "Requirement already satisfied: num2words in /usr/local/lib/python3.10/dist-packages (0.5.12)\n",
            "Requirement already satisfied: docopt>=0.6.2 in /usr/local/lib/python3.10/dist-packages (from num2words) (0.6.2)\n"
          ]
        }
      ]
    },
    {
      "cell_type": "code",
      "source": [
        "from num2words import num2words\n",
        "\n",
        "while True:\n",
        "  numero = input('Digite um número de 0 a 20 (s p/a sair): ')\n",
        "\n",
        "  if (numero == 's'):\n",
        "    print('- FIM -')\n",
        "    break\n",
        "  else:\n",
        "    try:\n",
        "      numero = int(numero)\n",
        "      if ((numero < 0) or (numero > 20)):\n",
        "        continue\n",
        "      else:\n",
        "        num_ptbr = num2words(numero, lang='pt-br')\n",
        "        print(f'Número: {num_ptbr}')\n",
        "    except ValueError:\n",
        "      print('Valor inválido!')\n",
        "      continue\n",
        "\n",
        "# ex. Para ordinais\n",
        "#num_ptbr_ord = num2words(numero, lang='pt-br', to='ordinal')\n",
        "#print(f'Número (ordinal): {num_ptbr_ord}')"
      ],
      "metadata": {
        "colab": {
          "base_uri": "https://localhost:8080/"
        },
        "id": "TyjWh89S8eln",
        "outputId": "7e69c5e7-0374-49fd-9155-247c53b96009"
      },
      "execution_count": 19,
      "outputs": [
        {
          "output_type": "stream",
          "name": "stdout",
          "text": [
            "Digite um número de 0 a 20 (s p/a sair): 20\n",
            "Número: vinte\n",
            "Digite um número de 0 a 20 (s p/a sair): 19\n",
            "Número: dezanove\n",
            "Digite um número de 0 a 20 (s p/a sair): 2\n",
            "Número: dois\n",
            "Digite um número de 0 a 20 (s p/a sair): 3\n",
            "Número: três\n",
            "Digite um número de 0 a 20 (s p/a sair): 4\n",
            "Número: quatro\n",
            "Digite um número de 0 a 20 (s p/a sair): 5\n",
            "Número: cinco\n",
            "Digite um número de 0 a 20 (s p/a sair): s\n",
            "- FIM -\n"
          ]
        }
      ]
    }
  ]
}