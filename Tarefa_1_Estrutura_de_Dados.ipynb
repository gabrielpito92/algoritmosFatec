{
  "nbformat": 4,
  "nbformat_minor": 0,
  "metadata": {
    "colab": {
      "provenance": [],
      "authorship_tag": "ABX9TyOFmYEb9JSQNF3tZlWfj7o7",
      "include_colab_link": true
    },
    "kernelspec": {
      "name": "python3",
      "display_name": "Python 3"
    },
    "language_info": {
      "name": "python"
    }
  },
  "cells": [
    {
      "cell_type": "markdown",
      "metadata": {
        "id": "view-in-github",
        "colab_type": "text"
      },
      "source": [
        "<a href=\"https://colab.research.google.com/github/gabrielpito92/algoritmosFatec/blob/main/Tarefa_1_Estrutura_de_Dados.ipynb\" target=\"_parent\"><img src=\"https://colab.research.google.com/assets/colab-badge.svg\" alt=\"Open In Colab\"/></a>"
      ]
    },
    {
      "cell_type": "markdown",
      "source": [
        "1. Crie um projeto em python e faça um projeto que leia a idade do usuário e classifique em:\n",
        "- Criança (0-10)\n",
        "- Pré-Adolescente (11-13)\n",
        "- Adolescente (14-17)\n",
        "- Adulto (>18)\n",
        "\n",
        "Obd: Se o usuário digitar um número negativo, ou maior que 150, mostre uma mensagem informando que a idade é inválida."
      ],
      "metadata": {
        "id": "IHz4T-Gw66zU"
      }
    },
    {
      "cell_type": "code",
      "execution_count": null,
      "metadata": {
        "id": "m76xj92P651z"
      },
      "outputs": [],
      "source": [
        "idade= int(input('Digite a sua idade: '))\n",
        "if (idade < 0 or idade > 150):\n",
        "    print(\"Idade inválida\")\n",
        "else:\n",
        "  if idade >= 0 and idade <= 10:\n",
        "      print(\"Criança\")\n",
        "  elif idade >= 11 and idade <= 13:\n",
        "      print(\"Pré-adolescente\")\n",
        "  elif idade >= 14 and idade <= 17:\n",
        "      print(\"Adolescente\")\n",
        "  else:\n",
        "      print(\"Adulto\")"
      ]
    },
    {
      "cell_type": "markdown",
      "source": [
        "2. Em um novo projeto, efeute o cálculo da quantidade total de litros de combustível quem um veículo usará em uma viagem. Para obter o cálculo, o usuário deve fornecer os quilômetros total da viagem e a média de consumo do seu veículo."
      ],
      "metadata": {
        "id": "j7AhB5xK7uKD"
      }
    },
    {
      "cell_type": "code",
      "execution_count": null,
      "metadata": {
        "id": "OrIHNSa68gDl"
      },
      "outputs": [],
      "source": [
        "quilometros = float(input('Digite a quantidade de quilômetros totais da viagem: '))\n",
        "combustivel = float(input('Digite a média de consumo do seu veículo: '))\n",
        "total = quilometros / combustivel\n",
        "print(f'A quantidade de litros é de {total}')"
      ]
    },
    {
      "cell_type": "markdown",
      "source": [
        "3. Em um novo projeto, calcule a média de um aluno que cursou a disciplina de Estrutura de dados.\n",
        "Leia as notas N1, N2 N3, N4, N5 e N6, e com os valores lidos, calcule a média aritmética. Depois, informe se o aluno foi aprovado, reprovado ou se terá que fazer uma prova substitutiva.\n",
        "\n",
        "- Se a média estiver abaixo de 4.5 o aluno será reprovado\n",
        "- Se a média estiver entre 4.5 e 6, o aluno terá que fazer uma sub\n",
        "- Se a média for maior do que 6, o aluno está aprovado"
      ],
      "metadata": {
        "id": "pEUci0Sp9UYO"
      }
    },
    {
      "cell_type": "code",
      "source": [
        "notas = []\n",
        "\n",
        "while len(notas) < 6:\n",
        "  nota = float(input(f'Digite a nota n° {len(notas)+1} do aluno: '))\n",
        "  notas.append(nota)\n",
        "\n",
        "media_final = sum(notas)/6\n",
        "print('\\n')\n",
        "\n",
        "if (media_final < 4.5):\n",
        "  print('reprovado')\n",
        "elif (media_final == 4.5 or media_final <= 6):\n",
        "  print('deverá fazer a sub')\n",
        "else:\n",
        "  print('aprovado')\n",
        "\n",
        "print(f'A média das notas é: {sum(notas)/6}')"
      ],
      "metadata": {
        "colab": {
          "base_uri": "https://localhost:8080/"
        },
        "id": "ujAEXsmH9Twr",
        "outputId": "3fb10bf1-b5e7-4fe4-fb5a-a46011655363"
      },
      "execution_count": null,
      "outputs": [
        {
          "output_type": "stream",
          "name": "stdout",
          "text": [
            "Digite a nota n° 1 do aluno: 5\n",
            "Digite a nota n° 2 do aluno: 5\n",
            "Digite a nota n° 3 do aluno: 5\n",
            "Digite a nota n° 4 do aluno: 5\n",
            "Digite a nota n° 5 do aluno: 5\n",
            "Digite a nota n° 6 do aluno: 5\n",
            "\n",
            "\n",
            "deverá fazer a sub\n",
            "A média das notas é: 5.0\n"
          ]
        }
      ]
    },
    {
      "cell_type": "markdown",
      "source": [
        "4. Faça outro projeto que use uma estrutura de repetição que imprima a tabuada do número que a pessoa digitar. A tabuada será até o valor 10.\n",
        "No inicio, peça ao usuário para ele digitar o número desejado, e com esse número você calcula a tabuada.\n",
        "Ou seja, se a pessoa digitar 50, será feito:\n",
        "50 * 1 = 50\n",
        "...\n",
        "50 * 10 = 500"
      ],
      "metadata": {
        "id": "953_BI01Cuo5"
      }
    },
    {
      "cell_type": "code",
      "source": [
        "num = int(input('Digite um número para ser impresso a tabuada: '))\n",
        "\n",
        "for i in range(1,11):\n",
        "  total = i * num\n",
        "  print(f'{num} * {i} = {total}')"
      ],
      "metadata": {
        "colab": {
          "base_uri": "https://localhost:8080/"
        },
        "id": "8vGilshKCvDo",
        "outputId": "e1c2293c-a36f-4d28-a12c-49569b42bb10"
      },
      "execution_count": null,
      "outputs": [
        {
          "output_type": "stream",
          "name": "stdout",
          "text": [
            "Digite um número para ser impresso a tabuada: 3\n",
            "3 * 1 = 3\n",
            "3 * 2 = 6\n",
            "3 * 3 = 9\n",
            "3 * 4 = 12\n",
            "3 * 5 = 15\n",
            "3 * 6 = 18\n",
            "3 * 7 = 21\n",
            "3 * 8 = 24\n",
            "3 * 9 = 27\n",
            "3 * 10 = 30\n"
          ]
        }
      ]
    }
  ]
}