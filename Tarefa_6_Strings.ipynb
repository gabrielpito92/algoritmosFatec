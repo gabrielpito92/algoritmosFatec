{
  "nbformat": 4,
  "nbformat_minor": 0,
  "metadata": {
    "colab": {
      "provenance": [],
      "authorship_tag": "ABX9TyNIQ4pY3cG+7ya/9jvb/Paj",
      "include_colab_link": true
    },
    "kernelspec": {
      "name": "python3",
      "display_name": "Python 3"
    },
    "language_info": {
      "name": "python"
    }
  },
  "cells": [
    {
      "cell_type": "markdown",
      "metadata": {
        "id": "view-in-github",
        "colab_type": "text"
      },
      "source": [
        "<a href=\"https://colab.research.google.com/github/gabrielpito92/algoritmosFatec/blob/main/Tarefa_6_Strings.ipynb\" target=\"_parent\"><img src=\"https://colab.research.google.com/assets/colab-badge.svg\" alt=\"Open In Colab\"/></a>"
      ]
    },
    {
      "cell_type": "markdown",
      "source": [
        "1) Faça um script que leia seu nome completo e exiba: todo em maiúsculo, todo em minúsculo, a quantidade de letras que ele possui (sem os espaços em branco) e somente seu primeiro nome e sua quantidade de letras;"
      ],
      "metadata": {
        "id": "C1GiKIGHXwno"
      }
    },
    {
      "cell_type": "code",
      "execution_count": null,
      "metadata": {
        "colab": {
          "base_uri": "https://localhost:8080/"
        },
        "id": "F-pFaYjkXrQF",
        "outputId": "e97b2196-6530-4518-8a85-0ab366490dd2"
      },
      "outputs": [
        {
          "output_type": "stream",
          "name": "stdout",
          "text": [
            "Digite o seu nome completo: Pedro Gabriel Pito Lopes\n",
            "Nome em caixa baixa: pedro gabriel pito lopes\n",
            "Nome em caixa alta: PEDRO GABRIEL PITO LOPES\n",
            "Qtd de letras sem espaços 21\n",
            "Somente primeiro nome e qtd. letras: Pedro 5\n"
          ]
        }
      ],
      "source": [
        "nome = input('Digite o seu nome completo: ')\n",
        "# minúscula\n",
        "nome_lower = nome.lower()\n",
        "# maiúscula\n",
        "nome_upper = nome.upper()\n",
        "# contar sem espaços\n",
        "nome_count = len(nome.replace(\" \", \"\"))\n",
        "# primeiro nome\n",
        "nome_primeiro = nome.split()[0]\n",
        "# qtd. letras primeiro nome\n",
        "nome_count_primeiro = len(nome_primeiro)\n",
        "\n",
        "print('Nome em caixa baixa:', nome_lower)\n",
        "print('Nome em caixa alta:', nome_upper)\n",
        "print('Qtd de letras sem espaços', nome_count)\n",
        "print('Somente primeiro nome e qtd. letras:', nome_primeiro, nome_count_primeiro)"
      ]
    },
    {
      "cell_type": "markdown",
      "source": [
        "2) Faça um script que leia um número de 4 dígitos e informe a quantidade de milhar, centena, dezena e unidade;"
      ],
      "metadata": {
        "id": "gjNw8QM1XzVa"
      }
    },
    {
      "cell_type": "code",
      "source": [
        "num = input(\"Digite um número de 4 dígitos: \")\n",
        "\n",
        "try:\n",
        "  num = int(num)\n",
        "\n",
        "  # Separa cada dígito do número\n",
        "  milhar = num // 1000\n",
        "  centena = (num % 1000) // 100\n",
        "  dezena = (num % 100) // 10\n",
        "  unidade = num % 10\n",
        "\n",
        "  # Exibe a quantidade de cada dígito\n",
        "  print(\"Milhar:\", milhar)\n",
        "  print(\"Centena:\", centena)\n",
        "  print(\"Dezena:\", dezena)\n",
        "  print(\"Unidade:\", unidade)\n",
        "except ValueError:\n",
        "  print('Entre com um número válido!')"
      ],
      "metadata": {
        "colab": {
          "base_uri": "https://localhost:8080/"
        },
        "id": "DXKak-40YFli",
        "outputId": "53938480-2ffa-41e8-bd8d-542de36f13d2"
      },
      "execution_count": null,
      "outputs": [
        {
          "output_type": "stream",
          "name": "stdout",
          "text": [
            "Digite um número de 4 dígitos: 1234\n",
            "Milhar: 1\n",
            "Centena: 2\n",
            "Dezena: 3\n",
            "Unidade: 4\n"
          ]
        }
      ]
    },
    {
      "cell_type": "markdown",
      "source": [
        "3) Faça um script que leia uma frase qualquer e verifique se ela começa com Ciências;"
      ],
      "metadata": {
        "id": "uuzRrNMNXzq7"
      }
    },
    {
      "cell_type": "code",
      "source": [
        "frase = input(\"Digite uma frase: \").lower()\n",
        "\n",
        "# Verifica se a frase começa com \"Ciências\"\n",
        "if frase.startswith(\"ciências\"):\n",
        "    print(\"A frase começa com 'Ciências'\")\n",
        "else:\n",
        "    print(\"A frase não começa com 'Ciências'\")\n",
        "\n",
        "#A função startswith() é utilizada para verificar se a frase começa com a string \"Ciências\"."
      ],
      "metadata": {
        "colab": {
          "base_uri": "https://localhost:8080/"
        },
        "id": "txkTqq3wYFsq",
        "outputId": "8dd20adb-f7c8-46d0-e660-0285e60190c6"
      },
      "execution_count": null,
      "outputs": [
        {
          "output_type": "stream",
          "name": "stdout",
          "text": [
            "Digite uma frase: Pedro Gabriel é aluno do curso Ciências de Dados\n",
            "A frase não começa com 'Ciências'\n"
          ]
        }
      ]
    },
    {
      "cell_type": "markdown",
      "source": [
        "4) Faça um script que leia um nome de curso e verifique se tem Dados no nome do curso;"
      ],
      "metadata": {
        "id": "KSi0bjNFXzyB"
      }
    },
    {
      "cell_type": "code",
      "source": [
        "curso = input(\"Digite o nome do curso: \").lower()\n",
        "\n",
        "# Verifica se o nome do curso contém \"Dados\"\n",
        "if \"dados\" in curso:\n",
        "    print(\"O nome do curso contém 'Dados'\")\n",
        "else:\n",
        "    print(\"O nome do curso não contém 'Dados'\")"
      ],
      "metadata": {
        "colab": {
          "base_uri": "https://localhost:8080/"
        },
        "id": "-YM4OBHzYFyq",
        "outputId": "c5a2e1b6-9582-4cd7-9ac3-9f9bac7b82d8"
      },
      "execution_count": null,
      "outputs": [
        {
          "output_type": "stream",
          "name": "stdout",
          "text": [
            "Digite o nome do curso: Ciencia de dados\n",
            "O nome do curso contém 'Dados'\n"
          ]
        }
      ]
    },
    {
      "cell_type": "markdown",
      "source": [
        "5) Faça um script que leia um nome (desconsidere acentos) e verifique quantas vezes aparece a letra A, qual a primeira posição que a letra A aparece e qual a última posição também;"
      ],
      "metadata": {
        "id": "ZEvHPYV2Xz4y"
      }
    },
    {
      "cell_type": "code",
      "source": [
        "!pip install unidecode  # Instala a biblioteca unidecode\n",
        "from unidecode import unidecode\n",
        "\n",
        "nome = unidecode(input(\"Digite um nome: \").lower())\n",
        "\n",
        "# Conta a quantidade de vezes que a letra \"a\" aparece no nome\n",
        "qtd_a = nome.count(\"a\")\n",
        "\n",
        "# Encontra a posição da letra \"a\"\n",
        "primeira_a = nome.find(\"a\")\n",
        "ultima_a = nome.rfind(\"a\")\n",
        "\n",
        "# Exibe os resultados\n",
        "print(\"Quantidade de vezes que a letra 'a' aparece:\", qtd_a)\n",
        "if primeira_a >= 0:\n",
        "    print(\"Primeira posição da letra 'a':\", primeira_a)\n",
        "else:\n",
        "    print(\"A letra 'a' não foi encontrada no nome.\")\n",
        "if ultima_a >= 0:\n",
        "    print(\"Última posição da letra 'a':\", ultima_a)\n",
        "else:\n",
        "    print(\"A letra 'a' não foi encontrada no nome.\")"
      ],
      "metadata": {
        "colab": {
          "base_uri": "https://localhost:8080/"
        },
        "id": "Ahk_HB4cYF3a",
        "outputId": "6e05ac62-8adb-4af0-c4e2-62a11ea9ca1f"
      },
      "execution_count": null,
      "outputs": [
        {
          "output_type": "stream",
          "name": "stdout",
          "text": [
            "Looking in indexes: https://pypi.org/simple, https://us-python.pkg.dev/colab-wheels/public/simple/\n",
            "Collecting unidecode\n",
            "  Downloading Unidecode-1.3.6-py3-none-any.whl (235 kB)\n",
            "\u001b[2K     \u001b[90m━━━━━━━━━━━━━━━━━━━━━━━━━━━━━━━━━━━━━━━\u001b[0m \u001b[32m235.9/235.9 kB\u001b[0m \u001b[31m6.3 MB/s\u001b[0m eta \u001b[36m0:00:00\u001b[0m\n",
            "\u001b[?25hInstalling collected packages: unidecode\n",
            "Successfully installed unidecode-1.3.6\n",
            "Digite um nome: água\n",
            "Quantidade de vezes que a letra 'a' aparece: 2\n",
            "Primeira posição da letra 'a': 0\n",
            "Última posição da letra 'a': 3\n"
          ]
        }
      ]
    },
    {
      "cell_type": "markdown",
      "source": [
        "6) Faça um script que leia o nome completo de uma pessoa e exiba o primeiro e o último nome somente."
      ],
      "metadata": {
        "id": "1W3KnEAwXzia"
      }
    },
    {
      "cell_type": "code",
      "source": [
        "nome_completo = input(\"Digite o nome completo: \")\n",
        "\n",
        "# Separa o nome completo em uma lista de palavras\n",
        "palavras = nome_completo.split()\n",
        "primeiro_nome = palavras[0]\n",
        "ultimo_nome = palavras[-1]\n",
        "\n",
        "print(\"Primeiro nome:\", primeiro_nome)\n",
        "print(\"Último nome:\", ultimo_nome)"
      ],
      "metadata": {
        "colab": {
          "base_uri": "https://localhost:8080/"
        },
        "id": "QzzAzChSYMVq",
        "outputId": "a92fe6b8-b03e-428a-d98f-4527cfb44a88"
      },
      "execution_count": null,
      "outputs": [
        {
          "output_type": "stream",
          "name": "stdout",
          "text": [
            "Digite o nome completo: Pedro Gabriel Pito Lopes\n",
            "Primeiro nome: Pedro\n",
            "Último nome: Lopes\n"
          ]
        }
      ]
    }
  ]
}