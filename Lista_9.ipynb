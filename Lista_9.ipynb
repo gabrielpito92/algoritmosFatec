{
  "nbformat": 4,
  "nbformat_minor": 0,
  "metadata": {
    "colab": {
      "provenance": [],
      "authorship_tag": "ABX9TyPa2AyMDFbcgCU68nxPOXjf",
      "include_colab_link": true
    },
    "kernelspec": {
      "name": "python3",
      "display_name": "Python 3"
    },
    "language_info": {
      "name": "python"
    }
  },
  "cells": [
    {
      "cell_type": "markdown",
      "metadata": {
        "id": "view-in-github",
        "colab_type": "text"
      },
      "source": [
        "<a href=\"https://colab.research.google.com/github/gabrielpito92/algoritmosFatec/blob/main/Lista_9.ipynb\" target=\"_parent\"><img src=\"https://colab.research.google.com/assets/colab-badge.svg\" alt=\"Open In Colab\"/></a>"
      ]
    },
    {
      "cell_type": "markdown",
      "source": [
        "**LISTA DE EXERCICIOS 9**"
      ],
      "metadata": {
        "id": "YgMvijwyek1x"
      }
    },
    {
      "cell_type": "markdown",
      "source": [
        "1) Ler para uma tupla 5 nomes e 5 notas de alunos. Exibir os dados de forma tabular, e a média final da sala."
      ],
      "metadata": {
        "id": "s4uHEvHBZ1TJ"
      }
    },
    {
      "cell_type": "code",
      "source": [
        "alunos = ('Gabriel', 10, 'José', 8.5, 'Maria', 7.5, 'André', 6, 'Isabela', 10)\n",
        "soma = 0\n",
        "print('=' * 25)\n",
        "print(f'{\"LISTAGEM DE ALUNOS\":^25}')\n",
        "print('=' * 25)\n",
        "\n",
        "print(f'NOME{\"NOTA\":>20}')\n",
        "#print(len(alunos))\n",
        "for pos in range (0, len(alunos)):\n",
        "\tif pos % 2 == 0:\n",
        "\t\tprint(f'{alunos[pos]:.<20}', end='')\n",
        "\telse:\n",
        "\t\tprint(f'{alunos[pos]:>5.2f}')\n",
        "\t\tsoma += alunos[pos]\n",
        "media = soma / 5\n",
        "print('=' * 25)\n",
        "print(f'Media geral da sala: {media:.2f}')"
      ],
      "metadata": {
        "colab": {
          "base_uri": "https://localhost:8080/"
        },
        "id": "V2BOPI2gZ1LZ",
        "outputId": "61851d23-bce0-4459-b2ea-36429d72e3ae"
      },
      "execution_count": null,
      "outputs": [
        {
          "output_type": "stream",
          "name": "stdout",
          "text": [
            "=========================\n",
            "   LISTAGEM DE ALUNOS    \n",
            "=========================\n",
            "NOME                NOTA\n",
            "Gabriel.............10.00\n",
            "José................ 8.50\n",
            "Maria............... 7.50\n",
            "André............... 6.00\n",
            "Isabela.............10.00\n",
            "=========================\n",
            "Media geral da sala: 8.40\n"
          ]
        }
      ]
    },
    {
      "cell_type": "markdown",
      "source": [
        "2) Criar uma tupla com 5 palavras. Mostra a palavra, as vogais da palavra e a quantidade de vogais existentes."
      ],
      "metadata": {
        "id": "C1GiKIGHXwno"
      }
    },
    {
      "cell_type": "code",
      "execution_count": null,
      "metadata": {
        "colab": {
          "base_uri": "https://localhost:8080/"
        },
        "id": "F-pFaYjkXrQF",
        "outputId": "a50dab35-f250-4799-f0e8-416157fb875d"
      },
      "outputs": [
        {
          "output_type": "stream",
          "name": "stdout",
          "text": [
            "Palavra: python\n",
            "Vogais: o\n",
            "Quantidade de vogais: 1\n",
            "\n",
            "Palavra: programação\n",
            "Vogais: o, a, a, o\n",
            "Quantidade de vogais: 4\n",
            "\n",
            "Palavra: tupla\n",
            "Vogais: u, a\n",
            "Quantidade de vogais: 2\n",
            "\n",
            "Palavra: linguagem\n",
            "Vogais: i, u, a, e\n",
            "Quantidade de vogais: 4\n",
            "\n",
            "Palavra: computador\n",
            "Vogais: o, u, a, o\n",
            "Quantidade de vogais: 4\n",
            "\n"
          ]
        }
      ],
      "source": [
        "palavras = (\"python\", \"programação\", \"tupla\", \"linguagem\", \"computador\")\n",
        "\n",
        "for palavra in palavras:\n",
        "  print(\"Palavra:\", palavra)\n",
        "\n",
        "  vogais = []\n",
        "  for letra in palavra:\n",
        "    if letra.lower() in 'aeiou':\n",
        "      vogais.append(letra)\n",
        "\n",
        "  print(\"Vogais:\", \", \".join(vogais))\n",
        "  print(\"Quantidade de vogais:\", len(vogais))\n",
        "  print()"
      ]
    }
  ]
}