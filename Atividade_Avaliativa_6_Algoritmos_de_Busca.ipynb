{
  "nbformat": 4,
  "nbformat_minor": 0,
  "metadata": {
    "colab": {
      "provenance": [],
      "authorship_tag": "ABX9TyOpnXtdvhYOBiNLMw6P6Nlm",
      "include_colab_link": true
    },
    "kernelspec": {
      "name": "python3",
      "display_name": "Python 3"
    },
    "language_info": {
      "name": "python"
    }
  },
  "cells": [
    {
      "cell_type": "markdown",
      "metadata": {
        "id": "view-in-github",
        "colab_type": "text"
      },
      "source": [
        "<a href=\"https://colab.research.google.com/github/gabrielpito92/algoritmosFatec/blob/main/Atividade_Avaliativa_6_Algoritmos_de_Busca.ipynb\" target=\"_parent\"><img src=\"https://colab.research.google.com/assets/colab-badge.svg\" alt=\"Open In Colab\"/></a>"
      ]
    },
    {
      "cell_type": "markdown",
      "source": [
        "1. Refaça as funções de busca sequencial e busca binária\n",
        "assumindo que a lista possui chaves que podem ocorrer\n",
        "múltiplas vezes na lista. Neste caso, você deve retornar uma\n",
        "lista com todas as posições onde a chave foi encontrada. Se a\n",
        "chave não for encontrada na lista, retornar uma lista vazia."
      ],
      "metadata": {
        "id": "FMQyMqHfdYF1"
      }
    },
    {
      "cell_type": "markdown",
      "source": [
        "### Busca Sequencial para Múltiplas Ocorrências:"
      ],
      "metadata": {
        "id": "I6sWDHLnd02d"
      }
    },
    {
      "cell_type": "code",
      "execution_count": 5,
      "metadata": {
        "id": "GqGFZxnFdWph"
      },
      "outputs": [],
      "source": [
        "def busca_sequencial_multi(lista, chave):\n",
        "  indices = []\n",
        "\n",
        "  for i, elemento in enumerate(lista):\n",
        "    if elemento == chave:\n",
        "      indices.append(i)\n",
        "\n",
        "  return indices"
      ]
    },
    {
      "cell_type": "markdown",
      "source": [
        "### Busca Binária para Múltiplas Ocorrências:"
      ],
      "metadata": {
        "id": "sIOEPQkId9tk"
      }
    },
    {
      "cell_type": "code",
      "source": [
        "def busca_binaria_multi(lista, chave):\n",
        "  indices = []\n",
        "  esquerda, direita = 0, len(lista) - 1\n",
        "\n",
        "  while esquerda <= direita:\n",
        "    meio = (esquerda + direita) // 2\n",
        "\n",
        "    if lista[meio] == chave:\n",
        "      # encontrou a chave, expande para a esquerda\n",
        "      i = meio\n",
        "      while i >= 0 and lista[i] == chave:\n",
        "        indices.insert(0, i)\n",
        "        i -= 1\n",
        "\n",
        "      # expande para a direita\n",
        "      i = meio + 1\n",
        "      while i < len(lista) and lista[i] == chave:\n",
        "        indices.append(i)\n",
        "        i += 1\n",
        "\n",
        "      return indices\n",
        "\n",
        "    elif lista[meio] < chave:\n",
        "      esquerda = meio + 1\n",
        "    else:\n",
        "      direita = meio - 1\n",
        "\n",
        "  return indices"
      ],
      "metadata": {
        "id": "YgqOlnb9d99-"
      },
      "execution_count": 6,
      "outputs": []
    },
    {
      "cell_type": "code",
      "source": [
        "# exemplo de lista ordenada\n",
        "lista_ordenada = [1, 2, 3, 4, 4, 5, 6, 7, 8, 9, 10]\n",
        "\n",
        "# chave a ser procurada\n",
        "chave = 4\n",
        "\n",
        "# executando as funções\n",
        "indices_sequencial = busca_sequencial_multi(lista_ordenada, chave)\n",
        "indices_binaria = busca_binaria_multi(lista_ordenada, chave)\n",
        "\n",
        "# resultados\n",
        "print(f\"Busca Sequencial: Chave {chave} encontrada nos índices {indices_sequencial}\")\n",
        "print(f\"Busca Binária: Chave {chave} encontrada nos índices {indices_binaria}\")"
      ],
      "metadata": {
        "colab": {
          "base_uri": "https://localhost:8080/"
        },
        "id": "jxzhZQBie52g",
        "outputId": "20f475de-cce7-41bf-8090-ea3f9499a17d"
      },
      "execution_count": 7,
      "outputs": [
        {
          "output_type": "stream",
          "name": "stdout",
          "text": [
            "Busca Sequencial: Chave 4 encontrada nos índices [3, 4]\n",
            "Busca Binária: Chave 4 encontrada nos índices [3, 4]\n"
          ]
        }
      ]
    },
    {
      "cell_type": "markdown",
      "source": [
        "**Importante: A busca binária requer uma lista ordenada, enquanto a busca sequencial funciona em qualquer lista.**"
      ],
      "metadata": {
        "id": "FHPnOX1-fEIn"
      }
    },
    {
      "cell_type": "markdown",
      "source": [
        "2. Mostre como implementar uma variação da busca binária que\n",
        "retorne um inteiro k entre 0 e n, tal que, ou lista[k] =\n",
        "chave, ou a chave não se encontra na lista, mas poderia ser\n",
        "inserida entre as posições (k-1) e k de forma a manter a lista\n",
        "ordenada. Note que, se k = 0, então a chave deveria ser\n",
        "inserida antes da primeira posição da lista, assim como, se k =\n",
        "n, a chave deveria ser inserida após a última posição da lista."
      ],
      "metadata": {
        "id": "6nITxYYGdYsi"
      }
    },
    {
      "cell_type": "code",
      "source": [
        "def busca_binaria_insercao(lista, chave):\n",
        "  esquerda, direita = 0, len(lista)\n",
        "\n",
        "  while esquerda < direita:\n",
        "    meio = (esquerda + direita) // 2\n",
        "\n",
        "    if lista[meio] == chave:\n",
        "      return meio  # chave encontrada no índice meio\n",
        "    elif lista[meio] < chave:\n",
        "      esquerda = meio + 1\n",
        "    else:\n",
        "      direita = meio\n",
        "\n",
        "  return esquerda  # chave não encontrada, mas poderia ser inserida em esquerda\n",
        "\n",
        "# lista ordenada\n",
        "lista_ordenada = [1, 2, 4, 5, 7, 8, 10]\n",
        "\n",
        "# chave a ser procurada ou inserida\n",
        "chave = 6\n",
        "\n",
        "# executando a busca binária modificada\n",
        "indice_insercao = busca_binaria_insercao(lista_ordenada, chave)\n",
        "\n",
        "# resultado\n",
        "print(f\"A chave {chave} poderia ser inserida no índice {indice_insercao}\")\n"
      ],
      "metadata": {
        "colab": {
          "base_uri": "https://localhost:8080/"
        },
        "id": "ecig9GsadZCA",
        "outputId": "e7085d60-e106-4c30-eeda-aaffb53a544f"
      },
      "execution_count": 8,
      "outputs": [
        {
          "output_type": "stream",
          "name": "stdout",
          "text": [
            "A chave 6 poderia ser inserida no índice 4\n"
          ]
        }
      ]
    },
    {
      "cell_type": "markdown",
      "source": [
        "3. Use a função desenvolvida acima para, dada uma lista\n",
        "ordenada de n números inteiros e distintos e dois outros\n",
        "inteiros X e Y, retornar o número de chaves da lista que são\n",
        "maiores ou iguais a X e menores ou iguais a Y."
      ],
      "metadata": {
        "id": "G_qsX3a_diVH"
      }
    },
    {
      "cell_type": "code",
      "source": [
        "def contagem_chaves_entre(lista, X, Y):\n",
        "  indice_X = busca_binaria_insercao(lista, X)\n",
        "  indice_Y = busca_binaria_insercao(lista, Y)\n",
        "\n",
        "  # se a chave X não estiver na lista, incrementamos o índice\n",
        "  if lista[indice_X] < X:\n",
        "      indice_X += 1\n",
        "\n",
        "  return max(0, indice_Y - indice_X)\n",
        "\n",
        "# lista ordenada\n",
        "lista_ordenada = [1, 2, 4, 5, 7, 8, 10]\n",
        "\n",
        "# X e Y\n",
        "X = 3\n",
        "Y = 8\n",
        "\n",
        "# obtendo o número de chaves entre X e Y na lista\n",
        "numero_chaves_entre = contagem_chaves_entre(lista_ordenada, X, Y)\n",
        "\n",
        "# resultado\n",
        "print(f\"O número de chaves entre {X} e {Y} é: {numero_chaves_entre}\")\n"
      ],
      "metadata": {
        "colab": {
          "base_uri": "https://localhost:8080/"
        },
        "id": "N96ErlHFdio1",
        "outputId": "f4f60aa5-c399-4c5a-d213-1012b9da154e"
      },
      "execution_count": 9,
      "outputs": [
        {
          "output_type": "stream",
          "name": "stdout",
          "text": [
            "O número de chaves entre 3 e 8 é: 3\n"
          ]
        }
      ]
    },
    {
      "cell_type": "markdown",
      "source": [
        "Existem quatro chaves na lista que satisfazem a condição especificada!"
      ],
      "metadata": {
        "id": "n89UFTjofwpT"
      }
    }
  ]
}