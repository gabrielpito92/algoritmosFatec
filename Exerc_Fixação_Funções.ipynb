{
  "nbformat": 4,
  "nbformat_minor": 0,
  "metadata": {
    "colab": {
      "provenance": [],
      "authorship_tag": "ABX9TyONzbZ+ZwcMGKe4MdwwX4uq",
      "include_colab_link": true
    },
    "kernelspec": {
      "name": "python3",
      "display_name": "Python 3"
    },
    "language_info": {
      "name": "python"
    }
  },
  "cells": [
    {
      "cell_type": "markdown",
      "metadata": {
        "id": "view-in-github",
        "colab_type": "text"
      },
      "source": [
        "<a href=\"https://colab.research.google.com/github/gabrielpito92/algoritmosFatec/blob/main/Exerc_Fixa%C3%A7%C3%A3o_Fun%C3%A7%C3%B5es.ipynb\" target=\"_parent\"><img src=\"https://colab.research.google.com/assets/colab-badge.svg\" alt=\"Open In Colab\"/></a>"
      ]
    },
    {
      "cell_type": "markdown",
      "source": [
        "Faça um script que tenha uma função que receba várias notas de alunos e exibe: quantidade de notas, maior nota, menor nota, média da turma.\n",
        "\n",
        "         \n"
      ],
      "metadata": {
        "id": "sXzlypjzV06e"
      }
    },
    {
      "cell_type": "code",
      "source": [
        "import statistics as stat\n",
        "notas = [10,8,6,5,2,6,8,7,10,9,5,6,6,8,8,8.5,9.5,9,8.4,6.5]\n",
        "\n",
        "def lerNotas(notas):\n",
        "  qtd_notas = len(notas)\n",
        "  maior_nota = max(notas)\n",
        "  menor_nota = min(notas)\n",
        "  media = stat.mean(notas)\n",
        "  print(f'Qtd. notas: {qtd_notas}, Maior nota: {maior_nota}, Menor nota: {menor_nota}, media: {media}')\n",
        "\n",
        "lerNotas(notas)"
      ],
      "metadata": {
        "id": "tgYtrX-5WDUy"
      },
      "execution_count": null,
      "outputs": []
    },
    {
      "cell_type": "markdown",
      "source": [
        "Faça uma função que receba como parâmetros o inicio, fim e o passo. Ela deve gerar a sequência de números entre inicio e fim de acordo com o passo. Exemplo:\n",
        "         inicio: 1\n",
        "         fim: 10\n",
        "         Passo: 1\n",
        "         Sequencia gerada: 1 2 3 4 5 6 7 8 9 10.\n",
        "\n",
        "* Suponha que o inicio pode ser menor que o fim e o passo negativo também."
      ],
      "metadata": {
        "id": "HqcpLUfVV7hP"
      }
    },
    {
      "cell_type": "code",
      "source": [
        "# Main - Execução do Programa\n",
        "def main():\n",
        "  init = input('Start Number: ')\n",
        "  end = input('End Number: ')\n",
        "  cont = input('Enter the counting rule: ')\n",
        "  convt(init, end, cont)\n",
        "\n",
        "def convt(init, end, cont):\n",
        "  try:\n",
        "    init = int(init)\n",
        "    end = int(end)\n",
        "    cont = int(cont)\n",
        "    sequence(init, cont, end)\n",
        "\n",
        "  except ValueError:\n",
        "    print('Impossible!')\n",
        "\n",
        "def sequence(init, cont, end):\n",
        "  if (init < end and cont > 0) or (init > end and cont < 0):\n",
        "    if (init < end):\n",
        "      end += 1\n",
        "    else:\n",
        "      end -= 1\n",
        "\n",
        "    for i in range(init, end, cont):\n",
        "      print(i)\n",
        "  else:\n",
        "    print('Impossible!')\n",
        "\n",
        "\n",
        "# Executa o programa\n",
        "if __name__ == \"__main__\":\n",
        "\tmain()"
      ],
      "metadata": {
        "id": "HtDR4rk9WEOf",
        "colab": {
          "base_uri": "https://localhost:8080/"
        },
        "outputId": "2ea4bb0b-cbbe-49eb-feeb-7f0da6abe7f0"
      },
      "execution_count": 15,
      "outputs": [
        {
          "output_type": "stream",
          "name": "stdout",
          "text": [
            "Start Number: 100\n",
            "End Number: 180\n",
            "Enter the counting rule: 3\n",
            "100\n",
            "103\n",
            "106\n",
            "109\n",
            "112\n",
            "115\n",
            "118\n",
            "121\n",
            "124\n",
            "127\n",
            "130\n",
            "133\n",
            "136\n",
            "139\n",
            "142\n",
            "145\n",
            "148\n",
            "151\n",
            "154\n",
            "157\n",
            "160\n",
            "163\n",
            "166\n",
            "169\n",
            "172\n",
            "175\n",
            "178\n"
          ]
        }
      ]
    },
    {
      "cell_type": "markdown",
      "source": [
        "Faça uma função que recebe um frase qualquer e retorne: a quantidade de letras da frase e a quantidade de vogais da frase."
      ],
      "metadata": {
        "id": "KesVBwpfWBjO"
      }
    },
    {
      "cell_type": "code",
      "execution_count": 14,
      "metadata": {
        "id": "pwPQ3_3hVvfX",
        "colab": {
          "base_uri": "https://localhost:8080/"
        },
        "outputId": "98bca1b1-57f7-4e51-b4bb-a4fde752e883"
      },
      "outputs": [
        {
          "output_type": "stream",
          "name": "stdout",
          "text": [
            "Insert any phrase: Pedro Gabriel Pito Lopes\n",
            "\n",
            "vowels = 9 and consonants = 15\n"
          ]
        }
      ],
      "source": [
        "vowels = ('a', 'e', 'i', 'o', 'u')\n",
        "\n",
        "def words(phrase):\n",
        "  v = 0\n",
        "  c = 0\n",
        "\n",
        "  for w in phrase:\n",
        "    if (w in vowels):\n",
        "      v +=1\n",
        "    else:\n",
        "      c +=1\n",
        "\n",
        "  print(f'\\nvowels = {v} and consonants = {c}')\n",
        "\n",
        "words(input('Insert any phrase: '))"
      ]
    }
  ]
}