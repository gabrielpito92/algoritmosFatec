{
  "nbformat": 4,
  "nbformat_minor": 0,
  "metadata": {
    "colab": {
      "provenance": [],
      "authorship_tag": "ABX9TyNhuylWX1ZkYqukrSTzeMj8",
      "include_colab_link": true
    },
    "kernelspec": {
      "name": "python3",
      "display_name": "Python 3"
    },
    "language_info": {
      "name": "python"
    }
  },
  "cells": [
    {
      "cell_type": "markdown",
      "metadata": {
        "id": "view-in-github",
        "colab_type": "text"
      },
      "source": [
        "<a href=\"https://colab.research.google.com/github/gabrielpito92/algoritmosFatec/blob/main/Lista_10.ipynb\" target=\"_parent\"><img src=\"https://colab.research.google.com/assets/colab-badge.svg\" alt=\"Open In Colab\"/></a>"
      ]
    },
    {
      "cell_type": "markdown",
      "source": [
        "**LISTA DE EXERCICIOS 10**"
      ],
      "metadata": {
        "id": "YgMvijwyek1x"
      }
    },
    {
      "cell_type": "markdown",
      "source": [
        "1) Ler vários números em uma lista até que o usuário deseje. Exibir no final: a quantidade de números digitados, a lista em ordem decrescente e a quantidade de pares e ímpares."
      ],
      "metadata": {
        "id": "s4uHEvHBZ1TJ"
      }
    },
    {
      "cell_type": "code",
      "source": [
        "lista = []\n",
        "par = 0\n",
        "impar = 0\n",
        "\n",
        "while True:\n",
        "  num = int(input('DIGITE UM NÚMERO PARA LISTA: '))\n",
        "  lista.append(num)\n",
        "\n",
        "  if num % 2 == 0:\n",
        "    par += 1\n",
        "  else:\n",
        "    impar += 1\n",
        "\n",
        "  resp = str(input('Deseja continuar S/N?: '))\n",
        "\n",
        "  if resp in 'nN':\n",
        "    lista.sort(reverse=True)\n",
        "    break\n",
        "\n",
        "print(f'Lista total: {lista}')\n",
        "print(f'Qtd. par: {par}')\n",
        "print(f'Qtd. impar: {impar}')\n",
        "print(f'Qtd. de números: {par + impar}')\n",
        "\n"
      ],
      "metadata": {
        "colab": {
          "base_uri": "https://localhost:8080/"
        },
        "id": "V2BOPI2gZ1LZ",
        "outputId": "6394f905-44ce-4d6e-c25a-f37643545c54"
      },
      "execution_count": null,
      "outputs": [
        {
          "output_type": "stream",
          "name": "stdout",
          "text": [
            "DIGITE UM NÚMERO PARA LISTA: 1\n",
            "Deseja continuar S/N?: s\n",
            "DIGITE UM NÚMERO PARA LISTA: 2\n",
            "Deseja continuar S/N?: s\n",
            "DIGITE UM NÚMERO PARA LISTA: 3\n",
            "Deseja continuar S/N?: s\n",
            "DIGITE UM NÚMERO PARA LISTA: 4\n",
            "Deseja continuar S/N?: s\n",
            "DIGITE UM NÚMERO PARA LISTA: 5\n",
            "Deseja continuar S/N?: s\n",
            "DIGITE UM NÚMERO PARA LISTA: 6\n",
            "Deseja continuar S/N?: n\n",
            "Lista total: [6, 5, 4, 3, 2, 1]\n",
            "Qtd. par: 3\n",
            "Qtd. impar: 3\n",
            "Qtd. de números: 6\n"
          ]
        }
      ]
    },
    {
      "cell_type": "markdown",
      "source": [
        "2) Ler vários números de uma lista até que o usuário deseje. Depois criar mais duas listas: uma somente com os números pares e outra somente com os números ímpares. Mostrar as 3 listas no final."
      ],
      "metadata": {
        "id": "C1GiKIGHXwno"
      }
    },
    {
      "cell_type": "code",
      "execution_count": null,
      "metadata": {
        "colab": {
          "base_uri": "https://localhost:8080/"
        },
        "id": "F-pFaYjkXrQF",
        "outputId": "755c3200-d980-4239-83d1-2670f95c5fe4"
      },
      "outputs": [
        {
          "output_type": "stream",
          "name": "stdout",
          "text": [
            "DIGITE UM NÚMERO PARA LISTA: 11\n",
            "Deseja continuar S/N?: s\n",
            "DIGITE UM NÚMERO PARA LISTA: 1\n",
            "Deseja continuar S/N?: s\n",
            "DIGITE UM NÚMERO PARA LISTA: 2\n",
            "Deseja continuar S/N?: s\n",
            "DIGITE UM NÚMERO PARA LISTA: 4\n",
            "Deseja continuar S/N?: s\n",
            "DIGITE UM NÚMERO PARA LISTA: 5\n",
            "Deseja continuar S/N?: s\n",
            "DIGITE UM NÚMERO PARA LISTA: 6\n",
            "Deseja continuar S/N?: \n",
            "Lista total: [11, 1, 2, 4, 5, 6]\n",
            "Lista total: [2, 4, 6]\n",
            "Lista total: [11, 1, 5]\n"
          ]
        }
      ],
      "source": [
        "lista = []\n",
        "lista_par = []\n",
        "lista_impar = []\n",
        "\n",
        "while True:\n",
        "  num = int(input('DIGITE UM NÚMERO PARA LISTA: '))\n",
        "  lista.append(num)\n",
        "\n",
        "  if num % 2 == 0:\n",
        "    lista_par.append(num)\n",
        "  else:\n",
        "    lista_impar.append(num)\n",
        "\n",
        "  resp = str(input('Deseja continuar S/N?: '))\n",
        "\n",
        "  if resp in 'nN':\n",
        "    break\n",
        "\n",
        "print(f'Lista total: {lista}')\n",
        "print(f'Lista par: {lista_par}')\n",
        "print(f'Lista impar: {lista_impar}')\n"
      ]
    },
    {
      "cell_type": "markdown",
      "source": [
        "3) Crie um programa que leia uma expressão qualquer que use parênteses. Seu programa deve analisar a expressão passada e falar se ela é válida ou inválida.\n",
        "\n",
        "ex: expressão lida: ((a+b) * c): inválida - (a + b) * c): inválida"
      ],
      "metadata": {
        "id": "uL9yjKvsANjx"
      }
    },
    {
      "cell_type": "code",
      "source": [
        "lista = []\n",
        "expressao = input('Digite uma expressão: ')\n",
        "\n",
        "for s in expressao:\n",
        "  if s == '(':\n",
        "    lista.append('(')\n",
        "  elif s == ')':\n",
        "    if len(lista) > 0:\n",
        "      lista.pop()\n",
        "  else:\n",
        "    lista.append(')')\n",
        "    break\n",
        "\n",
        "if len(lista) == 0:\n",
        "  print('Expressão ok')\n",
        "else:\n",
        "  print('Expressão inválida')"
      ],
      "metadata": {
        "colab": {
          "base_uri": "https://localhost:8080/"
        },
        "id": "mxMxhdqtCdJK",
        "outputId": "5740afa1-d070-4f86-bd1b-b1f150a619ac"
      },
      "execution_count": null,
      "outputs": [
        {
          "output_type": "stream",
          "name": "stdout",
          "text": [
            "Digite uma expressão: ((a+b)-c)\n",
            "Expressão inválida\n"
          ]
        }
      ]
    }
  ]
}