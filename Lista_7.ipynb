{
  "nbformat": 4,
  "nbformat_minor": 0,
  "metadata": {
    "colab": {
      "provenance": [],
      "authorship_tag": "ABX9TyPBZ8K7E6S+BgumuyjqEqZ2",
      "include_colab_link": true
    },
    "kernelspec": {
      "name": "python3",
      "display_name": "Python 3"
    },
    "language_info": {
      "name": "python"
    }
  },
  "cells": [
    {
      "cell_type": "markdown",
      "metadata": {
        "id": "view-in-github",
        "colab_type": "text"
      },
      "source": [
        "<a href=\"https://colab.research.google.com/github/gabrielpito92/algoritmosFatec/blob/main/Lista_7.ipynb\" target=\"_parent\"><img src=\"https://colab.research.google.com/assets/colab-badge.svg\" alt=\"Open In Colab\"/></a>"
      ]
    },
    {
      "cell_type": "markdown",
      "source": [
        "**LISTA DE EXERCICIOS 7**"
      ],
      "metadata": {
        "id": "YgMvijwyek1x"
      }
    },
    {
      "cell_type": "markdown",
      "source": [
        "1. Leia um número e verifique se é POSITIVO ou NEGATIVO ou NEUTRO;"
      ],
      "metadata": {
        "id": "s4uHEvHBZ1TJ"
      }
    },
    {
      "cell_type": "code",
      "source": [
        "numero = int(input('digite um número: '))\n",
        "\n",
        "if numero > 0:\n",
        "  print('POSITIVO')\n",
        "elif numero < 0:\n",
        "  print('NEGATIVO')\n",
        "else:\n",
        "  print('NEUTRO')\n",
        "\n"
      ],
      "metadata": {
        "id": "V2BOPI2gZ1LZ",
        "colab": {
          "base_uri": "https://localhost:8080/"
        },
        "outputId": "f8d5add5-bd4d-4300-cb99-3effe1b336b5"
      },
      "execution_count": null,
      "outputs": [
        {
          "output_type": "stream",
          "name": "stdout",
          "text": [
            "digite um número: -8\n",
            "NEGATIVO\n"
          ]
        }
      ]
    },
    {
      "cell_type": "markdown",
      "source": [
        "2. Leia um sexo (M ou F) e faça as seguintes saídas: M – Masculino, F – Feminino. Se for diferente disto imprimir: CARACTER INVÁLIDO;"
      ],
      "metadata": {
        "id": "C1GiKIGHXwno"
      }
    },
    {
      "cell_type": "code",
      "execution_count": null,
      "metadata": {
        "id": "F-pFaYjkXrQF",
        "colab": {
          "base_uri": "https://localhost:8080/"
        },
        "outputId": "373f1b0b-8618-4847-a97e-1416fe3231bc"
      },
      "outputs": [
        {
          "output_type": "stream",
          "name": "stdout",
          "text": [
            "Digite M para masculino ou F para feminino: F\n",
            "F - Feminino\n"
          ]
        }
      ],
      "source": [
        "sexo = input('Digite M para masculino ou F para feminino: ')\n",
        "\n",
        "if sexo == 'M' or sexo == 'm':\n",
        "  print('M - Masculino')\n",
        "elif sexo == 'F' or sexo == 'f':\n",
        "  print('F - Feminino')\n",
        "else:\n",
        "  print('CARACTER INVÁLIDO')\n"
      ]
    },
    {
      "cell_type": "markdown",
      "source": [
        "3. Leia um número para o usuário tentar adivinhar o número da sorte. Deve imprimir: CHUTE MUITO ALTO, CHUTE MUITO BAIXO ou ACERTOU;"
      ],
      "metadata": {
        "id": "uL9yjKvsANjx"
      }
    },
    {
      "cell_type": "code",
      "source": [
        "import random\n",
        "\n",
        "MIN = 1\n",
        "MAX = 100\n",
        "numero = random.randint(MIN, MAX)\n",
        "\n",
        "def verificar_num(usuario):\n",
        "    try:\n",
        "        num = int(usuario)\n",
        "        if MIN <= num <= MAX:\n",
        "            return num\n",
        "        else:\n",
        "            return None\n",
        "    except ValueError:\n",
        "        return None\n",
        "\n",
        "usuario = input('Adivinhe o número: ')\n",
        "\n",
        "while usuario != str(numero):\n",
        "    chute = verificar_num(usuario)\n",
        "    if chute is None:\n",
        "        print('ENTRE COM UM NÚMERO INTEIRO VÁLIDO E QUE ESTEJA DENTRO DO INTERVALO')\n",
        "    elif chute > numero:\n",
        "        print('CHUTE MUITO ALTO')\n",
        "    else:\n",
        "        print('CHUTE MUITO BAIXO')\n",
        "\n",
        "    usuario = input('Adivinhe o número: ')\n",
        "\n",
        "print('ACERTOU, O NÚMERO FOI:', numero)"
      ],
      "metadata": {
        "colab": {
          "base_uri": "https://localhost:8080/"
        },
        "id": "oM-XGCGCYhkj",
        "outputId": "137e2d1b-72ff-40e9-e40e-9e0904345f18"
      },
      "execution_count": null,
      "outputs": [
        {
          "output_type": "stream",
          "name": "stdout",
          "text": [
            "Adivinhe o número: asdfasdfasd\n",
            "ENTRE COM UM NÚMERO INTEIRO VÁLIDO E QUE ESTEJA DENTRO DO INTERVALO\n",
            "Adivinhe o número: 1223\n",
            "ENTRE COM UM NÚMERO INTEIRO VÁLIDO E QUE ESTEJA DENTRO DO INTERVALO\n",
            "Adivinhe o número: 10\n",
            "CHUTE MUITO BAIXO\n",
            "Adivinhe o número: 30\n",
            "CHUTE MUITO BAIXO\n",
            "Adivinhe o número: 60\n",
            "CHUTE MUITO ALTO\n",
            "Adivinhe o número: 40\n",
            "CHUTE MUITO ALTO\n",
            "Adivinhe o número: 33\n",
            "CHUTE MUITO BAIXO\n",
            "Adivinhe o número: 35\n",
            "ACERTOU, O NÚMERO FOI: 35\n"
          ]
        }
      ]
    }
  ]
}