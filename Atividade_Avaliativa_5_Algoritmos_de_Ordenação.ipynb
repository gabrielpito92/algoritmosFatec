{
  "nbformat": 4,
  "nbformat_minor": 0,
  "metadata": {
    "colab": {
      "provenance": [],
      "authorship_tag": "ABX9TyPSL3FCwT1+PZfOSsrbSdAg",
      "include_colab_link": true
    },
    "kernelspec": {
      "name": "python3",
      "display_name": "Python 3"
    },
    "language_info": {
      "name": "python"
    }
  },
  "cells": [
    {
      "cell_type": "markdown",
      "metadata": {
        "id": "view-in-github",
        "colab_type": "text"
      },
      "source": [
        "<a href=\"https://colab.research.google.com/github/gabrielpito92/algoritmosFatec/blob/main/Atividade_Avaliativa_5_Algoritmos_de_Ordena%C3%A7%C3%A3o.ipynb\" target=\"_parent\"><img src=\"https://colab.research.google.com/assets/colab-badge.svg\" alt=\"Open In Colab\"/></a>"
      ]
    },
    {
      "cell_type": "markdown",
      "source": [
        "1. Altere o Bubble Sort para que o algoritmo pare assim que for\n",
        "possível perceber que a lista está ordenada. Qual o custo deste\n",
        "novo algoritmo em termos do número de comparações entre\n",
        "elementos da lista (tanto no melhor, quanto no pior caso)?"
      ],
      "metadata": {
        "id": "omlQmpKQYXKJ"
      }
    },
    {
      "cell_type": "code",
      "execution_count": 5,
      "metadata": {
        "colab": {
          "base_uri": "https://localhost:8080/"
        },
        "id": "oKlWN-pSYR88",
        "outputId": "b3f4010d-5136-404c-cd60-2c752f2b2892"
      },
      "outputs": [
        {
          "output_type": "stream",
          "name": "stdout",
          "text": [
            "[-7, -1, 0, 1, 2, 3, 4, 5, 6, 7, 8, 9, 10, 11, 88]\n"
          ]
        }
      ],
      "source": [
        "def bubble_opt(arr):\n",
        "  n = len(arr)\n",
        "\n",
        "  # Flag para indicar se houve alguma troca durante a passagem\n",
        "  swapped = True\n",
        "\n",
        "  while swapped:\n",
        "    swapped = False\n",
        "    for i in range(1, n):\n",
        "      if arr[i - 1] > arr[i]:\n",
        "        # Troca os elementos\n",
        "        arr[i - 1], arr[i] = arr[i], arr[i - 1]\n",
        "        swapped = True\n",
        "\n",
        "    # Diminui o tamanho da lista a ser verificada, já que o maior elemento está na posição correta\n",
        "    n -= 1\n",
        "\n",
        "  return arr\n",
        "\n",
        "print(bubble_opt([3,1,2,5,88,0,9,6,4,8,7,-7,-1,11,10]))"
      ]
    },
    {
      "cell_type": "markdown",
      "source": [
        "Dessa forma, com relação a complexidade, no pior caso, o Bubble Sort otimizado ainda é O(n^2) - ¨The Big O¨ **notação encontrada e explicada no livro Entendendo Algoritmos de Aditya Y. Bhargava** - porque ainda precisamos percorrer a lista completa.\n",
        "\n",
        "Contudo, no melhor caso (quando a lista já está ordenada), o número de comparações é O(n), pois apenas uma passagem é necessária.\n",
        "\n",
        "É possível observarmos que o desempenho prático do Bubble Sort em comparação com outros algoritmos de ordenação mais eficientes, como o Merge Sort ou o Quick Sort, ainda é inferior em muitos casos.\n",
        "\n",
        "Este algoritmo é frequentemente utilizado para fins educacionais."
      ],
      "metadata": {
        "id": "c0-mOGp6ZOGl"
      }
    },
    {
      "cell_type": "markdown",
      "source": [
        "2. Escreva uma função k-ésimo que, dada uma lista de tamanho\n",
        "n e um inteiro k (tal que 1 ≤ k ≤ n), determine o k-ésimo\n",
        "menor elemento da lista. Analise o custo da sua função em\n",
        "termos do número de comparações realizadas entre elementos\n",
        "da lista."
      ],
      "metadata": {
        "id": "lO-dvSTvaoA1"
      }
    },
    {
      "cell_type": "code",
      "source": [
        "def partition(arr, low, high):\n",
        "  pivot = arr[high]\n",
        "  i = low - 1\n",
        "\n",
        "  for j in range(low, high):\n",
        "    if arr[j] <= pivot:\n",
        "      i += 1\n",
        "      arr[i], arr[j] = arr[j], arr[i]\n",
        "\n",
        "  arr[i + 1], arr[high] = arr[high], arr[i + 1]\n",
        "  return i + 1\n",
        "\n",
        "def quick_select(arr, low, high, k):\n",
        "  if low <= high:\n",
        "    pivot_index = partition(arr, low, high)\n",
        "\n",
        "    if pivot_index == k - 1:\n",
        "      return arr[pivot_index]\n",
        "    elif pivot_index > k - 1:\n",
        "      return quick_select(arr, low, pivot_index - 1, k)\n",
        "    else:\n",
        "      return quick_select(arr, pivot_index + 1, high, k)\n",
        "\n",
        "def kth_smallest(arr, k):\n",
        "  if 1 <= k <= len(arr):\n",
        "    return quick_select(arr, 0, len(arr) - 1, k)\n",
        "  else:\n",
        "    return None\n",
        "\n",
        "# Exemplo de lista\n",
        "lista = [5, 2, 8, 1, 7, 3, 9, 4, 6]\n",
        "\n",
        "# Definindo o valor de k\n",
        "k = 4\n",
        "\n",
        "# Encontrando o k-ésimo menor elemento na lista\n",
        "resultado = kth_smallest(lista, k)\n",
        "\n",
        "# Imprimindo o resultado\n",
        "print(f'O {k}-ésimo menor elemento na lista é: {resultado}')"
      ],
      "metadata": {
        "colab": {
          "base_uri": "https://localhost:8080/"
        },
        "id": "TlRsTKAfar7T",
        "outputId": "091eb7ad-2852-4e89-8a63-c8c1393cfdc3"
      },
      "execution_count": 4,
      "outputs": [
        {
          "output_type": "stream",
          "name": "stdout",
          "text": [
            "O 4-ésimo menor elemento na lista é: 4\n"
          ]
        }
      ]
    },
    {
      "cell_type": "markdown",
      "source": [
        "**Isso indica que o 4-ésimo menor elemento na lista fornecida é de fato o número 4.**"
      ],
      "metadata": {
        "id": "3VrNMT2ycZbu"
      }
    },
    {
      "cell_type": "markdown",
      "source": [
        "**Observações importantes:**\n",
        "\n",
        "A função kth_smallest recebe uma lista e um número inteiro k, que representa a posição do elemento desejado (1 ≤ k ≤ n).\n",
        "\n",
        "A função chama quick_select para encontrar o k-ésimo menor elemento.\n",
        "\n",
        "A complexidade média de tempo do QuickSelect é O(n), mas no pior caso pode ser O(n^2).\n",
        "\n",
        "Porém, na maioria dos casos, o QuickSelect é eficiente e supera muitos algoritmos de ordenação clássicos em relação ao desempenho."
      ],
      "metadata": {
        "id": "hw6FSoLRbUR2"
      }
    }
  ]
}